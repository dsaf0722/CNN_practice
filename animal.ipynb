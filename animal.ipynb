{
 "cells": [
  {
   "cell_type": "code",
   "execution_count": 1,
   "metadata": {},
   "outputs": [
    {
     "name": "stderr",
     "output_type": "stream",
     "text": [
      "Using TensorFlow backend.\n"
     ]
    }
   ],
   "source": [
    "import tensorflow as tf\n",
    "from tensorflow.keras.models import Sequential\n",
    "from tensorflow.keras.layers import Dense, Conv2D, Flatten, Dropout, MaxPooling2D, GlobalAveragePooling2D , ZeroPadding2D,Convolution2D,BatchNormalization,Flatten\n",
    "from tensorflow.keras.preprocessing.image import ImageDataGenerator\n",
    "from keras import regularizers\n",
    "from tensorflow.keras.optimizers import Adam\n",
    "import numpy as np\n",
    "import os\n",
    "from sklearn.model_selection import train_test_split"
   ]
  },
  {
   "cell_type": "code",
   "execution_count": 7,
   "metadata": {},
   "outputs": [],
   "source": [
    "import sys\n",
    "from PIL import Image\n",
    "sys.modules['Image'] = Image "
   ]
  },
  {
   "cell_type": "code",
   "execution_count": 2,
   "metadata": {},
   "outputs": [
    {
     "name": "stdout",
     "output_type": "stream",
     "text": [
      "[PhysicalDevice(name='/physical_device:GPU:0', device_type='GPU')] [PhysicalDevice(name='/physical_device:CPU:0', device_type='CPU')]\n"
     ]
    }
   ],
   "source": [
    "gpus = tf.config.experimental.list_physical_devices(device_type='GPU')\n",
    "cpus = tf.config.experimental.list_physical_devices(device_type='CPU')\n",
    "print(gpus, cpus)"
   ]
  },
  {
   "cell_type": "code",
   "execution_count": 3,
   "metadata": {},
   "outputs": [],
   "source": [
    "#資料增強\n",
    "# img_gen = ImageDataGenerator(featurewise_center=True,\n",
    "#                              featurewise_std_normalization=True,\n",
    "#                              rotation_range=10,\n",
    "#                              width_shift_range=0.1,\n",
    "#                              height_shift_range=0.1,\n",
    "#                              shear_range=0.1,\n",
    "#                              zoom_range=0.1,\n",
    "#                              horizontal_flip=True,\n",
    "#                              dtype=np.float32\n",
    "#                             )\n",
    "img_gen = ImageDataGenerator(featurewise_center=True,\n",
    "                             featurewise_std_normalization=True,\n",
    "                             rotation_range=0,\n",
    "                             width_shift_range=0,\n",
    "                             height_shift_range=0,\n",
    "                             shear_range=0,\n",
    "                             zoom_range=0,\n",
    "                             horizontal_flip=False,\n",
    "                             dtype=np.float32\n",
    "                            )"
   ]
  },
  {
   "cell_type": "markdown",
   "metadata": {},
   "source": [
    "\n",
    "ImageDataGenerator中常見的Augmentation(輸入形式、內容)：\n",
    "featurewise_center：輸入為Boolean(True or False)，以每一張feature map為單位將平均值設為0\n",
    "featurewise_std_normalization: 輸入為Boolean(True or False) ，以每一張feature map為單位將數值除以其標準差(上述兩步驟就是我們常見的Standardization)\n",
    "zca_whitening: Boolean，透過ZCA取出重要特徵(詳見：ZCA介紹)\n",
    "rotation_range：整數值，控制隨機旋轉角度\n",
    "width_shift_range：「浮點、整數、一維數」，圖像寬度上隨機偏移值\n",
    "height_shift_range：「浮點、整數、一維數」，圖像高度上隨機偏移值\n",
    "shear_range：浮點數，裁切範圍\n",
    "zoom_range：浮點數或範圍，隨機縮放比例\n",
    "horizontal_flip: Boolean，隨機水平翻轉\n",
    "vertical_flip:Boolean，隨機垂直翻轉\n",
    "rescale: 數值，縮放比例\n",
    "dtype：輸出資料型態\n"
   ]
  },
  {
   "cell_type": "code",
   "execution_count": 4,
   "metadata": {},
   "outputs": [
    {
     "name": "stdout",
     "output_type": "stream",
     "text": [
      "Found 10000 images belonging to 10 classes.\n"
     ]
    }
   ],
   "source": [
    "train_generator = img_gen.flow_from_directory(\n",
    "        \"C:\\\\Users\\\\user\\\\Desktop\\\\raw-img\\\\train\",\n",
    "        target_size=(224,224),       # resize images to (224,224) to increase the training speed and efficiency\n",
    "        batch_size=8)"
   ]
  },
  {
   "cell_type": "code",
   "execution_count": 5,
   "metadata": {},
   "outputs": [
    {
     "name": "stdout",
     "output_type": "stream",
     "text": [
      "Found 2000 images belonging to 10 classes.\n"
     ]
    }
   ],
   "source": [
    "test_generator=img_gen.flow_from_directory(\n",
    "        \"C:\\\\Users\\\\user\\\\Desktop\\\\raw-img\\\\test\",\n",
    "         target_size=(224,224),       # resize images to (224,224) to increase the training speed and efficiency\n",
    "         batch_size=8)"
   ]
  },
  {
   "cell_type": "code",
   "execution_count": 13,
   "metadata": {},
   "outputs": [
    {
     "name": "stdout",
     "output_type": "stream",
     "text": [
      "Model: \"sequential_1\"\n",
      "_________________________________________________________________\n",
      "Layer (type)                 Output Shape              Param #   \n",
      "=================================================================\n",
      "conv2d_3 (Conv2D)            (None, 224, 224, 16)      208       \n",
      "_________________________________________________________________\n",
      "batch_normalization_3 (Batch (None, 224, 224, 16)      64        \n",
      "_________________________________________________________________\n",
      "conv2d_4 (Conv2D)            (None, 224, 224, 32)      2080      \n",
      "_________________________________________________________________\n",
      "batch_normalization_4 (Batch (None, 224, 224, 32)      128       \n",
      "_________________________________________________________________\n",
      "flatten_1 (Flatten)          (None, 1605632)           0         \n",
      "_________________________________________________________________\n",
      "dense_1 (Dense)              (None, 10)                16056330  \n",
      "=================================================================\n",
      "Total params: 16,058,810\n",
      "Trainable params: 16,058,714\n",
      "Non-trainable params: 96\n",
      "_________________________________________________________________\n"
     ]
    }
   ],
   "source": [
    "model= Sequential()\n",
    "model.add(Conv2D(filters=16,kernel_size=(2,2),padding='same',input_shape=(224,224,3),activation='relu'))\n",
    "model.add(BatchNormalization())\n",
    "model.add(Conv2D(filters=32,kernel_size=(2,2),padding='same',activation='relu'))\n",
    "model.add(BatchNormalization())\n",
    "# model.add(Conv2D(filters=64,kernel_size=(2,2),padding='same',activation='relu'))\n",
    "# model.add(BatchNormalization())\n",
    "model.add(Flatten())\n",
    "model.add(Dense(10,activation='softmax'))\n",
    "\n",
    "model.summary()\n",
    "model.compile(loss='categorical_crossentropy',optimizer='adam')"
   ]
  },
  {
   "cell_type": "code",
   "execution_count": 14,
   "metadata": {},
   "outputs": [
    {
     "name": "stdout",
     "output_type": "stream",
     "text": [
      "WARNING:tensorflow:sample_weight modes were coerced from\n",
      "  ...\n",
      "    to  \n",
      "  ['...']\n",
      "WARNING:tensorflow:sample_weight modes were coerced from\n",
      "  ...\n",
      "    to  \n",
      "  ['...']\n"
     ]
    },
    {
     "name": "stderr",
     "output_type": "stream",
     "text": [
      "C:\\Users\\user\\DL\\lib\\site-packages\\keras_preprocessing\\image\\image_data_generator.py:720: UserWarning: This ImageDataGenerator specifies `featurewise_center`, but it hasn't been fit on any training data. Fit it first by calling `.fit(numpy_data)`.\n",
      "  warnings.warn('This ImageDataGenerator specifies '\n",
      "C:\\Users\\user\\DL\\lib\\site-packages\\keras_preprocessing\\image\\image_data_generator.py:728: UserWarning: This ImageDataGenerator specifies `featurewise_std_normalization`, but it hasn't been fit on any training data. Fit it first by calling `.fit(numpy_data)`.\n",
      "  warnings.warn('This ImageDataGenerator specifies '\n"
     ]
    },
    {
     "name": "stdout",
     "output_type": "stream",
     "text": [
      "Train for 1250 steps, validate for 250 steps\n",
      "Epoch 1/10\n",
      "   5/1250 [..............................] - ETA: 1:57 - loss: 193.5879"
     ]
    },
    {
     "name": "stderr",
     "output_type": "stream",
     "text": [
      "C:\\Users\\user\\DL\\lib\\site-packages\\keras_preprocessing\\image\\image_data_generator.py:720: UserWarning: This ImageDataGenerator specifies `featurewise_center`, but it hasn't been fit on any training data. Fit it first by calling `.fit(numpy_data)`.\n",
      "  warnings.warn('This ImageDataGenerator specifies '\n",
      "C:\\Users\\user\\DL\\lib\\site-packages\\keras_preprocessing\\image\\image_data_generator.py:728: UserWarning: This ImageDataGenerator specifies `featurewise_std_normalization`, but it hasn't been fit on any training data. Fit it first by calling `.fit(numpy_data)`.\n",
      "  warnings.warn('This ImageDataGenerator specifies '\n"
     ]
    },
    {
     "name": "stdout",
     "output_type": "stream",
     "text": [
      "1250/1250 [==============================] - 50s 40ms/step - loss: 51.4622 - val_loss: 9.2791\n",
      "Epoch 2/10\n",
      "1250/1250 [==============================] - 50s 40ms/step - loss: 2.6797 - val_loss: 10.3349\n",
      "Epoch 3/10\n",
      "1250/1250 [==============================] - 50s 40ms/step - loss: 0.7221 - val_loss: 11.6117\n",
      "Epoch 4/10\n",
      "1250/1250 [==============================] - 50s 40ms/step - loss: 0.7579 - val_loss: 13.4975\n",
      "Epoch 5/10\n",
      "1250/1250 [==============================] - 51s 40ms/step - loss: 0.5703 - val_loss: 14.4327\n",
      "Epoch 6/10\n",
      "1250/1250 [==============================] - 50s 40ms/step - loss: 0.4937 - val_loss: 14.7576\n",
      "Epoch 7/10\n",
      "1250/1250 [==============================] - 50s 40ms/step - loss: 0.3417 - val_loss: 12.8348\n",
      "Epoch 8/10\n",
      "1250/1250 [==============================] - 51s 40ms/step - loss: 0.3687 - val_loss: 12.2433\n",
      "Epoch 9/10\n",
      "1250/1250 [==============================] - 50s 40ms/step - loss: 0.2260 - val_loss: 13.0148\n",
      "Epoch 10/10\n",
      "1250/1250 [==============================] - 51s 41ms/step - loss: 0.2312 - val_loss: 18.2668\n"
     ]
    }
   ],
   "source": [
    "history=model.fit(train_generator,\n",
    "                 steps_per_epoch = (10000//8),\n",
    "                 validation_data=test_generator,\n",
    "                 validation_steps=(2000//8),\n",
    "                 epochs=10)"
   ]
  },
  {
   "cell_type": "code",
   "execution_count": 15,
   "metadata": {},
   "outputs": [],
   "source": [
    "import matplotlib.pyplot as plt"
   ]
  },
  {
   "cell_type": "code",
   "execution_count": 16,
   "metadata": {},
   "outputs": [
    {
     "data": {
      "text/plain": [
       "<Figure size 432x288 with 0 Axes>"
      ]
     },
     "metadata": {},
     "output_type": "display_data"
    },
    {
     "data": {
      "image/png": "[encoded data removed]",
      "text/plain": [
       "<Figure size 432x288 with 1 Axes>"
      ]
     },
     "metadata": {
      "needs_background": "light"
     },
     "output_type": "display_data"
    }
   ],
   "source": [
    "TrainERR=history.history['loss']\n",
    "ValidERR=history.history['val_loss']\n",
    "plt.clf()\n",
    "plt.figure(4)\n",
    "plt.plot(range(1,11),TrainERR,'b',label='TrainERR')\n",
    "plt.plot(range(1,11),ValidERR,'r',label='ValidERR')\n",
    "plt.xlim([1,10])\n",
    "plt.legend()\n",
    "plt.xlabel('epoch')\n",
    "plt.ylabel('error')\n",
    "plt.grid(True)\n",
    "plt.show()"
   ]
  },
  {
   "cell_type": "code",
   "execution_count": null,
   "metadata": {},
   "outputs": [],
   "source": []
  },
  {
   "cell_type": "code",
   "execution_count": null,
   "metadata": {},
   "outputs": [],
   "source": []
  }
 ],
 "metadata": {
  "kernelspec": {
   "display_name": "tf",
   "language": "python",
   "name": "tf"
  },
  "language_info": {
   "codemirror_mode": {
    "name": "ipython",
    "version": 3
   },
   "file_extension": ".py",
   "mimetype": "text/x-python",
   "name": "python",
   "nbconvert_exporter": "python",
   "pygments_lexer": "ipython3",
   "version": "3.6.8"
  }
 },
 "nbformat": 4,
 "nbformat_minor": 4
}
